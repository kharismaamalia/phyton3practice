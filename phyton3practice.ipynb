{
 "cells": [
  {
   "cell_type": "code",
   "execution_count": 1,
   "metadata": {},
   "outputs": [
    {
     "name": "stdout",
     "output_type": "stream",
     "text": [
      "Data Nilai Mata Kuliah Mahasiswa \n",
      "<><><><><><><><><><><><><><><><><><><><><><>\n",
      "(name))\n",
      "Nilai anda adalah A\n",
      "<><><><><><><><><><><><><><><><><><><><><><><\n"
     ]
    }
   ],
   "source": [
    "print (\"Data Nilai Mata Kuliah Mahasiswa \")\n",
    "print (\"<><><><><><><><><><><><><><><><><><><><><><>\") \n",
    "\n",
    "print (\"(name)\")\n",
    "\n",
    "nilai = 80\n",
    "if 80 <= nilai <= 100:\n",
    "    print (\"Nilai anda adalah A\")\n",
    "elif 70 <= nilai < 80:\n",
    "    print (\"Nilai anda adalah B\")\n",
    "elif 60 <= nilai < 70:\n",
    "    print (\"Nilai anda adalah C\")\n",
    "elif 50 <= nilai < 60:\n",
    "    print (\"Nilai anda adalah D, anda harus melakukan perbaikan\")\n",
    "else:\n",
    "    print (\"Maaf anda tidak lulus mata kuliah ini\")\n",
    "    \n",
    "print (\"<><><><><><><><><><><><><><><><><><><><><><><\")"
   ]
  },
  {
   "cell_type": "code",
   "execution_count": null,
   "metadata": {},
   "outputs": [],
   "source": []
  }
 ],
 "metadata": {
  "kernelspec": {
   "display_name": "Python 3",
   "language": "python",
   "name": "python3"
  },
  "language_info": {
   "codemirror_mode": {
    "name": "ipython",
    "version": 3
   },
   "file_extension": ".py",
   "mimetype": "text/x-python",
   "name": "python",
   "nbconvert_exporter": "python",
   "pygments_lexer": "ipython3",
   "version": "3.7.4"
  }
 },
 "nbformat": 4,
 "nbformat_minor": 2
}
